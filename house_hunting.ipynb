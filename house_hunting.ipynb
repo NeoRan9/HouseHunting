{
 "cells": [
  {
   "cell_type": "code",
   "execution_count": 30,
   "id": "82a687a2",
   "metadata": {},
   "outputs": [],
   "source": [
    "from ipyleaflet import Map, Marker, AwesomeIcon\n",
    "from ipywidgets import Layout"
   ]
  },
  {
   "cell_type": "code",
   "execution_count": 31,
   "id": "b2d36f80",
   "metadata": {},
   "outputs": [
    {
     "data": {
      "application/vnd.jupyter.widget-view+json": {
       "model_id": "1aadb8ca3ff7410286b529bf94fa4a08",
       "version_major": 2,
       "version_minor": 0
      },
      "text/plain": [
       "Map(center=[33.336759, -111.893061], controls=(ZoomControl(options=['position', 'zoom_in_text', 'zoom_in_title…"
      ]
     },
     "metadata": {},
     "output_type": "display_data"
    }
   ],
   "source": [
    "center = (33.336759, -111.893061)\n",
    "\n",
    "m = Map(center=center, zoom=13, layout=Layout(width='100%', height='800px'))\n",
    "m"
   ]
  },
  {
   "cell_type": "code",
   "execution_count": 38,
   "id": "3732c872",
   "metadata": {},
   "outputs": [],
   "source": [
    "traderjoes = AwesomeIcon(\n",
    "    name='shopping-basket',\n",
    "    marker_color='red',\n",
    "    icon_color='black',\n",
    "    spin=False\n",
    ")\n",
    "marker = Marker(icon = traderjoes, location=center, draggable=False)\n",
    "m.add_layer(marker);"
   ]
  },
  {
   "cell_type": "code",
   "execution_count": 39,
   "id": "1e45da3b",
   "metadata": {},
   "outputs": [],
   "source": [
    "sprouts = AwesomeIcon(\n",
    "    name='shopping-cart',\n",
    "    marker_color='green',\n",
    "    icon_color='black',\n",
    "    spin=False\n",
    ")\n",
    "marker = Marker(location=(33.341012, -111.878194), draggable=False, icon = sprouts)\n",
    "m.add_layer(marker);"
   ]
  },
  {
   "cell_type": "code",
   "execution_count": null,
   "id": "7617f8f6",
   "metadata": {},
   "outputs": [],
   "source": []
  },
  {
   "cell_type": "code",
   "execution_count": null,
   "id": "0de16a85",
   "metadata": {},
   "outputs": [],
   "source": []
  }
 ],
 "metadata": {
  "kernelspec": {
   "display_name": "Python 3",
   "language": "python",
   "name": "python3"
  },
  "language_info": {
   "codemirror_mode": {
    "name": "ipython",
    "version": 3
   },
   "file_extension": ".py",
   "mimetype": "text/x-python",
   "name": "python",
   "nbconvert_exporter": "python",
   "pygments_lexer": "ipython3",
   "version": "3.6.13"
  }
 },
 "nbformat": 4,
 "nbformat_minor": 5
}
